{
 "cells": [
  {
   "cell_type": "code",
   "execution_count": null,
   "metadata": {},
   "outputs": [],
   "source": [
    "import pandas as pd\n",
    "import numpy as np"
   ]
  },
  {
   "cell_type": "code",
   "execution_count": null,
   "metadata": {},
   "outputs": [],
   "source": [
    "persons = input(\"Enter the visiting guest names separating them with \\\",\\\": \")\n",
    "persons = persons.lower().strip()\n",
    "persons = persons.split(\",\")\n",
    "persons = [i.strip() for i in persons]\n",
    "print(persons)"
   ]
  },
  {
   "cell_type": "code",
   "execution_count": null,
   "metadata": {},
   "outputs": [],
   "source": [
    "items = input(\"Enter the dishes separating them with \\\",\\\": \")\n",
    "items = items.strip()\n",
    "items = items.split(\",\")\n",
    "items = [i.strip() for i in items]\n",
    "print(items)"
   ]
  },
  {
   "cell_type": "code",
   "execution_count": null,
   "metadata": {},
   "outputs": [],
   "source": [
    "costs = []\n",
    "for i in items:\n",
    "    costs.append(float(input(\"How much did {} cost? Answer: \".format(i))))\n",
    "print(costs)\n",
    "costs = dict(zip(items,costs))\n",
    "print(costs)"
   ]
  },
  {
   "cell_type": "code",
   "execution_count": null,
   "metadata": {},
   "outputs": [],
   "source": [
    "links = {}\n",
    "for i in persons:\n",
    "    links[i] = []\n",
    "for i in persons:\n",
    "    for j in items:\n",
    "        temp = input(\"Did {} consume {}? Answer yes or no (y or n): \".format(i,j))\n",
    "        if temp == \"y\" or temp == \"yes\":\n",
    "            links[i].append(j)\n",
    "            \n",
    "print(links)"
   ]
  },
  {
   "cell_type": "code",
   "execution_count": null,
   "metadata": {},
   "outputs": [],
   "source": [
    "dm = np.ndarray(shape = (len(items),len(persons)))\n",
    "dm[0][1] = 1\n",
    "print(dm)\n",
    "for i in range(len(persons)):\n",
    "    for j in range(len(items)):\n",
    "        if items[j] in links[persons[i]]:\n",
    "            dm[j][i] = 1\n",
    "        else:\n",
    "            dm[j][i] = 0\n",
    "data = pd.DataFrame(data = dm, columns = persons)\n",
    "data[\"sum\"] = data.sum(axis = 1)\n",
    "items = pd.Series(items)\n",
    "data[\"items\"] = items\n",
    "data.head()"
   ]
  },
  {
   "cell_type": "code",
   "execution_count": null,
   "metadata": {},
   "outputs": [],
   "source": [
    "costs = pd.DataFrame(costs,index = [\"price\"]).transpose()\n",
    "\n",
    "costs.reset_index(inplace = True)\n",
    "costs = costs.rename(columns = {'index':'items'})\n",
    "costs.head()"
   ]
  },
  {
   "cell_type": "code",
   "execution_count": null,
   "metadata": {},
   "outputs": [],
   "source": [
    "data = pd.merge(data, costs)\n",
    "data.head()"
   ]
  },
  {
   "cell_type": "code",
   "execution_count": null,
   "metadata": {},
   "outputs": [],
   "source": [
    "# column_sum\n",
    "for i in persons:\n",
    "    data[i+\"_total\"] = data[i]/data[\"sum\"]*data[\"price\"]\n",
    "\n",
    "data = data.drop(persons + [\"sum\",\"items\",\"price\"],axis=1)\n",
    "data.head()"
   ]
  },
  {
   "cell_type": "code",
   "execution_count": null,
   "metadata": {},
   "outputs": [],
   "source": [
    "#Total Row\n",
    "data.loc[\"Total_without_tip\"] = data.sum()\n",
    "data.head()\n",
    "\n",
    "tip = float(input(\"What was the tip %? Write float without % sign: \"))/100\n",
    "data.loc[\"Total\"] = data.loc[\"Total_without_tip\"]*(1+tip)\n",
    "data.head(10)"
   ]
  },
  {
   "cell_type": "code",
   "execution_count": null,
   "metadata": {},
   "outputs": [],
   "source": [
    "# Mechanics of transactions\n",
    "# 1. Pop the who pays guy and move to the end\n",
    "who_pays = input(\"Who pays?: \").lower()\n",
    "persons.remove(who_pays)\n",
    "persons.append(who_pays)\n",
    "print(persons)\n",
    "\n",
    "# 2. Update totals\n",
    "for i in range(len(persons)):\n",
    "    if i > 0:\n",
    "        data.loc[\"Total\",persons[i]+\"_total\"] += data.loc[\"Total\",persons[i-1]+\"_total\"]\n",
    "print(data.head())\n",
    "\n",
    "#3. Make Transactions\n",
    "for i in range(len(persons)):\n",
    "    if i == len(persons)-1:\n",
    "        print(\"{} pays the bill\".format(persons[i]))\n",
    "    else:\n",
    "        print(\"{} pays to {} {} tenge\".format(persons[i],persons[i+1],data.loc[\"Total\",persons[i]+\"_total\"]))"
   ]
  },
  {
   "cell_type": "code",
   "execution_count": null,
   "metadata": {},
   "outputs": [],
   "source": []
  }
 ],
 "metadata": {
  "kernelspec": {
   "display_name": "Python 3 (ipykernel)",
   "language": "python",
   "name": "python3"
  },
  "language_info": {
   "codemirror_mode": {
    "name": "ipython",
    "version": 3
   },
   "file_extension": ".py",
   "mimetype": "text/x-python",
   "name": "python",
   "nbconvert_exporter": "python",
   "pygments_lexer": "ipython3",
   "version": "3.9.7"
  }
 },
 "nbformat": 4,
 "nbformat_minor": 2
}
